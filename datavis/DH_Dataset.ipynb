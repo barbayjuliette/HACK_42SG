{
  "cells": [
    {
      "cell_type": "markdown",
      "metadata": {},
      "source": [
        "# Data Cleaning\n",
        "Cleaning data to be able to geolocate it"
      ]
    },
    {
      "cell_type": "code",
      "execution_count": 2,
      "metadata": {
        "trusted": true
      },
      "outputs": [
        {
          "name": "stdout",
          "output_type": "stream",
          "text": [
            "The history saving thread hit an unexpected error (OperationalError('unable to open database file')).History will not be written to the database.\n"
          ]
        },
        {
          "data": {
            "text/html": [
              "<div>\n",
              "<style scoped>\n",
              "    .dataframe tbody tr th:only-of-type {\n",
              "        vertical-align: middle;\n",
              "    }\n",
              "\n",
              "    .dataframe tbody tr th {\n",
              "        vertical-align: top;\n",
              "    }\n",
              "\n",
              "    .dataframe thead th {\n",
              "        text-align: right;\n",
              "    }\n",
              "</style>\n",
              "<table border=\"1\" class=\"dataframe\">\n",
              "  <thead>\n",
              "    <tr style=\"text-align: right;\">\n",
              "      <th></th>\n",
              "      <th>Unnamed: 0</th>\n",
              "      <th>customer_id</th>\n",
              "      <th>geohash</th>\n",
              "      <th>order_id</th>\n",
              "      <th>vendor_id</th>\n",
              "      <th>product_id</th>\n",
              "      <th>day_of_week</th>\n",
              "      <th>order_time</th>\n",
              "      <th>order_day</th>\n",
              "    </tr>\n",
              "  </thead>\n",
              "  <tbody>\n",
              "    <tr>\n",
              "      <th>0</th>\n",
              "      <td>0</td>\n",
              "      <td>1ba124d4e5</td>\n",
              "      <td>w21z7</td>\n",
              "      <td>0</td>\n",
              "      <td>212753d2</td>\n",
              "      <td>783e85338f1c</td>\n",
              "      <td>0</td>\n",
              "      <td>12:03:29</td>\n",
              "      <td>85 days</td>\n",
              "    </tr>\n",
              "    <tr>\n",
              "      <th>1</th>\n",
              "      <td>1</td>\n",
              "      <td>1ba124d4e5</td>\n",
              "      <td>w21z7</td>\n",
              "      <td>0</td>\n",
              "      <td>212753d2</td>\n",
              "      <td>084ab73246e6</td>\n",
              "      <td>0</td>\n",
              "      <td>12:03:29</td>\n",
              "      <td>85 days</td>\n",
              "    </tr>\n",
              "    <tr>\n",
              "      <th>2</th>\n",
              "      <td>2</td>\n",
              "      <td>1ba124d4e5</td>\n",
              "      <td>w21z7</td>\n",
              "      <td>0</td>\n",
              "      <td>212753d2</td>\n",
              "      <td>30eba3cc2676</td>\n",
              "      <td>0</td>\n",
              "      <td>12:03:29</td>\n",
              "      <td>85 days</td>\n",
              "    </tr>\n",
              "    <tr>\n",
              "      <th>3</th>\n",
              "      <td>3</td>\n",
              "      <td>1ba124d4e5</td>\n",
              "      <td>w21z7</td>\n",
              "      <td>0</td>\n",
              "      <td>212753d2</td>\n",
              "      <td>3910309eea60</td>\n",
              "      <td>0</td>\n",
              "      <td>12:03:29</td>\n",
              "      <td>85 days</td>\n",
              "    </tr>\n",
              "    <tr>\n",
              "      <th>4</th>\n",
              "      <td>4</td>\n",
              "      <td>1ba124d4e5</td>\n",
              "      <td>w21z7</td>\n",
              "      <td>0</td>\n",
              "      <td>212753d2</td>\n",
              "      <td>20049fb602cb</td>\n",
              "      <td>0</td>\n",
              "      <td>12:03:29</td>\n",
              "      <td>85 days</td>\n",
              "    </tr>\n",
              "  </tbody>\n",
              "</table>\n",
              "</div>"
            ],
            "text/plain": [
              "   Unnamed: 0 customer_id geohash  order_id vendor_id    product_id  \\\n",
              "0           0  1ba124d4e5   w21z7         0  212753d2  783e85338f1c   \n",
              "1           1  1ba124d4e5   w21z7         0  212753d2  084ab73246e6   \n",
              "2           2  1ba124d4e5   w21z7         0  212753d2  30eba3cc2676   \n",
              "3           3  1ba124d4e5   w21z7         0  212753d2  3910309eea60   \n",
              "4           4  1ba124d4e5   w21z7         0  212753d2  20049fb602cb   \n",
              "\n",
              "   day_of_week order_time order_day  \n",
              "0            0   12:03:29   85 days  \n",
              "1            0   12:03:29   85 days  \n",
              "2            0   12:03:29   85 days  \n",
              "3            0   12:03:29   85 days  \n",
              "4            0   12:03:29   85 days  "
            ]
          },
          "execution_count": 2,
          "metadata": {},
          "output_type": "execute_result"
        }
      ],
      "source": [
        "import pandas as pd\n",
        "\n",
        "path = \"orders_sg.csv\"\n",
        "df = pd.read_csv(path)\n",
        "df.head()"
      ]
    },
    {
      "cell_type": "code",
      "execution_count": 27,
      "metadata": {
        "trusted": true
      },
      "outputs": [],
      "source": [
        "import geohash\n",
        "import os\n",
        "\n",
        "def convert_geohash(file):\n",
        "    df = pd.read_csv(file)\n",
        "    try:\n",
        "        df['geohash'].values.any()\n",
        "    except KeyError:\n",
        "        print(\"No geohash in file\")\n",
        "        return\n",
        "\n",
        "    dir = os.getcwd()\n",
        "    print(f\"Processing {file}\")\n",
        "    name, ext = os.path.splitext(file)\n",
        "    output_file = f'{dir}/{name}_clean.csv'  # Path to your output CSV file\n",
        "    # Create empty lists to store the latitudes and longitudes\n",
        "    latitudes = []\n",
        "    longitudes = []\n",
        "\n",
        "    # Iterate over each geohash in the DataFrame, decode it, and append the values\n",
        "    for geohash_str in df['geohash']:\n",
        "        lat, lon = geohash.decode(geohash_str)  # Decode the geohash\n",
        "        latitudes.append(lat)\n",
        "        longitudes.append(lon)\n",
        "\n",
        "    # Add the latitude and longitude columns to the DataFrame\n",
        "    df['latitude'] = latitudes\n",
        "    df['longitude'] = longitudes\n",
        "\n",
        "    # Save the updated DataFrame to a new CSV file\n",
        "    df.to_csv(output_file, index=False)"
      ]
    },
    {
      "cell_type": "code",
      "execution_count": 29,
      "metadata": {},
      "outputs": [
        {
          "name": "stdout",
          "output_type": "stream",
          "text": [
            "Processing orders_sg_test.csv\n",
            "Processing orders_sg_train.csv\n",
            "Processing orders_sg.csv\n",
            "No geohash in file\n",
            "Processing vendors_sg.csv\n"
          ]
        }
      ],
      "source": [
        "files = [\"orders_sg_test.csv\",\n",
        "\t\t\"orders_sg_train.csv\",\n",
        "\t\t\"orders_sg.csv\",\n",
        "\t\t\"products_sg.csv\",\n",
        "\t\t\"vendors_sg.csv\"]\n",
        "for file in files:\n",
        "\tconvert_geohash(file)\n"
      ]
    },
    {
      "cell_type": "code",
      "execution_count": 3,
      "metadata": {
        "trusted": true
      },
      "outputs": [],
      "source": [
        "output_file = 'geohash.csv'  # Path to your output CSV file"
      ]
    },
    {
      "cell_type": "code",
      "execution_count": 7,
      "metadata": {},
      "outputs": [
        {
          "data": {
            "image/png": "[encoded data removed]",
            "text/plain": [
              "<Figure size 640x480 with 1 Axes>"
            ]
          },
          "metadata": {},
          "output_type": "display_data"
        }
      ],
      "source": [
        "import matplotlib.pyplot as plt\n",
        "plt.scatter(x=df['longitude'], y=df['latitude'])\n",
        "plt.show()"
      ]
    },
    {
      "cell_type": "markdown",
      "metadata": {},
      "source": [
        "# Visualising data with kepler.gl"
      ]
    },
    {
      "cell_type": "code",
      "execution_count": 2,
      "metadata": {},
      "outputs": [
        {
          "name": "stdout",
          "output_type": "stream",
          "text": [
            "User Guide: https://docs.kepler.gl/docs/keplergl-jupyter\n"
          ]
        },
        {
          "name": "stderr",
          "output_type": "stream",
          "text": [
            "/sgoinfre/goinfre/Perso/jerlim/42asiahackathon/HACK_42SG/hack/dataenv/lib/python3.10/site-packages/IPython/core/formatters.py:370: FormatterWarning: text/html formatter returned invalid type <class 'bytes'> (expected <class 'str'>) for object: KeplerGl()\n",
            "  warnings.warn(\n"
          ]
        },
        {
          "data": {
            "application/vnd.jupyter.widget-view+json": {
              "model_id": "029c2870e1f447989465b5db1ec3af01",
              "version_major": 2,
              "version_minor": 0
            },
            "text/plain": [
              "KeplerGl()"
            ]
          },
          "execution_count": 2,
          "metadata": {},
          "output_type": "execute_result"
        }
      ],
      "source": [
        "# Load an empty map\n",
        "from keplergl import KeplerGl\n",
        "map_1 = KeplerGl()\n",
        "map_1"
      ]
    }
  ],
  "metadata": {
    "kernelspec": {
      "display_name": "dataenv",
      "language": "python",
      "name": "python3"
    },
    "language_info": {
      "codemirror_mode": {
        "name": "ipython",
        "version": 3
      },
      "file_extension": ".py",
      "mimetype": "text/x-python",
      "name": "python",
      "nbconvert_exporter": "python",
      "pygments_lexer": "ipython3",
      "version": "3.10.12"
    }
  },
  "nbformat": 4,
  "nbformat_minor": 4
}
